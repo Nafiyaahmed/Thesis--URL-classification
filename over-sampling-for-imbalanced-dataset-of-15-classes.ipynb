{
 "cells": [
  {
   "cell_type": "markdown",
   "execution_count": null,
   "metadata": {
    "papermill": {
     "duration": 0.008696,
     "end_time": "2020-08-11T18:10:29.786079",
     "exception": false,
     "start_time": "2020-08-11T18:10:29.777383",
     "status": "completed"
    },
    "tags": []
   },
   "source": [
    "## Import Libraries"
   ]
  },
  {
   "cell_type": "code",
   "execution_count": 1,
   "metadata": {
    "_uuid": "d2155d2a47acce9e8087db0bf0c25436f886b46d",
    "execution": {
     "iopub.execute_input": "2020-08-11T18:10:29.815474Z",
     "iopub.status.busy": "2020-08-11T18:10:29.810306Z",
     "iopub.status.idle": "2020-08-11T18:10:35.535348Z",
     "shell.execute_reply": "2020-08-11T18:10:35.534121Z"
    },
    "id": "zIKWDITNcE0S",
    "outputId": "b611dc3a-98c0-4359-d84e-72476238115b",
    "papermill": {
     "duration": 5.742019,
     "end_time": "2020-08-11T18:10:35.535541",
     "exception": false,
     "start_time": "2020-08-11T18:10:29.793522",
     "status": "completed"
    },
    "tags": []
   },
   "outputs": [],
   "source": [
    "import pandas as pd\n",
    "import numpy as np\n",
    "from sklearn import linear_model\n",
    "from sklearn import metrics\n",
    "from sklearn.model_selection import train_test_split\n",
    "%matplotlib inline \n",
    "from sklearn.utils import shuffle\n",
    "import matplotlib.pyplot as plt\n",
    "from numpy import array\n",
    "from numpy import argmax\n",
    "from sklearn.preprocessing import LabelEncoder\n",
    "from sklearn.preprocessing import OneHotEncoder\n",
    "from sklearn.feature_extraction.text import TfidfVectorizer\n",
    "from sklearn.feature_extraction.text import TfidfTransformer\n",
    "from sklearn.naive_bayes import MultinomialNB\n",
    "from sklearn.feature_extraction.text import CountVectorizer\n",
    "from sklearn.feature_selection import chi2\n",
    "from sklearn import tree\n",
    "from sklearn.tree import DecisionTreeClassifier\n",
    "from keras.utils import to_categorical\n",
    "from keras.models import Sequential\n",
    "from keras.layers.core import Dense, Activation\n",
    "from keras.utils import np_utils\n",
    "import re\n",
    "from keras.preprocessing import sequence\n",
    "from keras.preprocessing.text import one_hot\n",
    "from keras.preprocessing.text import text_to_word_sequence\n",
    "from sklearn.svm import LinearSVC"
   ]
  },
  {
   "cell_type": "markdown",
   "execution_count": null,
   "metadata": {
    "papermill": {
     "duration": 0.00729,
     "end_time": "2020-08-11T18:10:35.550710",
     "exception": false,
     "start_time": "2020-08-11T18:10:35.543420",
     "status": "completed"
    },
    "tags": []
   },
   "source": [
    "## Read Dataset"
   ]
  },
  {
   "cell_type": "code",
   "execution_count": 2,
   "metadata": {
    "execution": {
     "iopub.execute_input": "2020-08-11T18:10:35.574813Z",
     "iopub.status.busy": "2020-08-11T18:10:35.574143Z",
     "iopub.status.idle": "2020-08-11T18:10:37.537765Z",
     "shell.execute_reply": "2020-08-11T18:10:37.538246Z"
    },
    "papermill": {
     "duration": 1.980171,
     "end_time": "2020-08-11T18:10:37.538397",
     "exception": false,
     "start_time": "2020-08-11T18:10:35.558226",
     "status": "completed"
    },
    "tags": []
   },
   "outputs": [
    {
     "data": {
      "text/plain": [
       "(1562978, 2)"
      ]
     },
     "execution_count": 2,
     "metadata": {},
     "output_type": "execute_result"
    }
   ],
   "source": [
    "names=['URL','Category']\n",
    "df=pd.read_csv('../input/url-classification-dataset-dmoz/URL Classification.csv',names=names, na_filter=False)\n",
    "df.shape"
   ]
  },
  {
   "cell_type": "markdown",
   "execution_count": null,
   "metadata": {
    "papermill": {
     "duration": 0.00752,
     "end_time": "2020-08-11T18:10:37.554450",
     "exception": false,
     "start_time": "2020-08-11T18:10:37.546930",
     "status": "completed"
    },
    "tags": []
   },
   "source": [
    "## Check numbers of data for each class"
   ]
  },
  {
   "cell_type": "code",
   "execution_count": 3,
   "metadata": {
    "execution": {
     "iopub.execute_input": "2020-08-11T18:10:37.894898Z",
     "iopub.status.busy": "2020-08-11T18:10:37.894174Z",
     "iopub.status.idle": "2020-08-11T18:10:37.905306Z",
     "shell.execute_reply": "2020-08-11T18:10:37.904795Z"
    },
    "papermill": {
     "duration": 0.343098,
     "end_time": "2020-08-11T18:10:37.905424",
     "exception": false,
     "start_time": "2020-08-11T18:10:37.562326",
     "status": "completed"
    },
    "tags": []
   },
   "outputs": [
    {
     "data": {
      "text/plain": [
       "Arts          253840\n",
       "Society       243943\n",
       "Business      240177\n",
       "Computers     117962\n",
       "Science       110286\n",
       "Recreation    106586\n",
       "Sports        101328\n",
       "Shopping       95270\n",
       "Health         60097\n",
       "Reference      58247\n",
       "Games          56477\n",
       "Kids           46182\n",
       "Adult          35325\n",
       "Home           28269\n",
       "News            8989\n",
       "Name: Category, dtype: int64"
      ]
     },
     "execution_count": 3,
     "metadata": {},
     "output_type": "execute_result"
    }
   ],
   "source": [
    "df.Category.value_counts()"
   ]
  },
  {
   "cell_type": "code",
   "execution_count": 4,
   "metadata": {
    "execution": {
     "iopub.execute_input": "2020-08-11T18:10:38.258166Z",
     "iopub.status.busy": "2020-08-11T18:10:38.257295Z",
     "iopub.status.idle": "2020-08-11T18:10:38.539814Z",
     "shell.execute_reply": "2020-08-11T18:10:38.539124Z"
    },
    "papermill": {
     "duration": 0.626552,
     "end_time": "2020-08-11T18:10:38.539944",
     "exception": false,
     "start_time": "2020-08-11T18:10:37.913392",
     "status": "completed"
    },
    "tags": []
   },
   "outputs": [
    {
     "data": {
      "text/plain": [
       "Text(0, 0.5, 'Total Number Of Individual Category')"
      ]
     },
     "execution_count": 4,
     "metadata": {},
     "output_type": "execute_result"
    },
    {
     "data": {
      "image/png": "[encoded data removed]",
      "text/plain": [
       "<Figure size 864x360 with 1 Axes>"
      ]
     },
     "metadata": {
      "needs_background": "light"
     },
     "output_type": "display_data"
    }
   ],
   "source": [
    "df.Category.value_counts().plot(figsize=(12,5),kind='bar',color='green');\n",
    "plt.xlabel('Category')\n",
    "plt.ylabel('Total Number Of Individual Category')"
   ]
  },
  {
   "cell_type": "markdown",
   "execution_count": null,
   "metadata": {
    "papermill": {
     "duration": 0.007955,
     "end_time": "2020-08-11T18:10:38.556928",
     "exception": false,
     "start_time": "2020-08-11T18:10:38.548973",
     "status": "completed"
    },
    "tags": []
   },
   "source": [
    "## Removing Data Imbalanced problem by Over Sampling[](http://)"
   ]
  },
  {
   "cell_type": "code",
   "execution_count": 5,
   "metadata": {
    "execution": {
     "iopub.execute_input": "2020-08-11T18:10:38.891288Z",
     "iopub.status.busy": "2020-08-11T18:10:38.752333Z",
     "iopub.status.idle": "2020-08-11T18:10:38.895986Z",
     "shell.execute_reply": "2020-08-11T18:10:38.896461Z"
    },
    "papermill": {
     "duration": 0.330658,
     "end_time": "2020-08-11T18:10:38.896618",
     "exception": false,
     "start_time": "2020-08-11T18:10:38.565960",
     "status": "completed"
    },
    "tags": []
   },
   "outputs": [],
   "source": [
    "class_1,class_2,class_3 ,class_4 ,class_5 ,class_6 ,class_7 ,class_8 ,class_9 ,class_10 ,class_11 ,class_12 ,class_13 ,class_14 ,class_15  = df.Category.value_counts()"
   ]
  },
  {
   "cell_type": "code",
   "execution_count": 6,
   "metadata": {
    "execution": {
     "iopub.execute_input": "2020-08-11T18:10:39.186088Z",
     "iopub.status.busy": "2020-08-11T18:10:39.185083Z",
     "iopub.status.idle": "2020-08-11T18:10:42.303927Z",
     "shell.execute_reply": "2020-08-11T18:10:42.303320Z"
    },
    "papermill": {
     "duration": 3.398201,
     "end_time": "2020-08-11T18:10:42.304057",
     "exception": false,
     "start_time": "2020-08-11T18:10:38.905856",
     "status": "completed"
    },
    "tags": []
   },
   "outputs": [],
   "source": [
    "df_class_1 = df[df['Category'] == \"Arts\"]\n",
    "df_class_2 = df[df['Category'] == \"Society\"]\n",
    "df_class_3 = df[df['Category'] == \"Business\"]\n",
    "df_class_4 = df[df['Category'] == \"Computers\"]\n",
    "df_class_5 = df[df['Category'] == \"Science\"]\n",
    "df_class_6 = df[df['Category'] == \"Recreation\"]\n",
    "df_class_7 = df[df['Category'] == \"Sports\"]\n",
    "df_class_8 = df[df['Category'] == \"Shopping\"]\n",
    "df_class_9 = df[df['Category'] == \"Health\"]\n",
    "df_class_10 = df[df['Category'] == \"Reference\"]\n",
    "df_class_11 = df[df['Category'] == \"Games\"]\n",
    "df_class_12 = df[df['Category'] == \"Kids\"]\n",
    "df_class_13 = df[df['Category'] == \"Adult\"]\n",
    "df_class_14 = df[df['Category'] == \"Home\"]\n",
    "df_class_15 = df[df['Category'] == \"News\"]"
   ]
  },
  {
   "cell_type": "code",
   "execution_count": 7,
   "metadata": {
    "execution": {
     "iopub.execute_input": "2020-08-11T18:10:42.332186Z",
     "iopub.status.busy": "2020-08-11T18:10:42.331304Z",
     "iopub.status.idle": "2020-08-11T18:10:42.887473Z",
     "shell.execute_reply": "2020-08-11T18:10:42.886811Z"
    },
    "papermill": {
     "duration": 0.575034,
     "end_time": "2020-08-11T18:10:42.887595",
     "exception": false,
     "start_time": "2020-08-11T18:10:42.312561",
     "status": "completed"
    },
    "tags": []
   },
   "outputs": [],
   "source": [
    "df_class_2_under = df_class_2.sample(class_1,replace=True)\n",
    "df_class_3_under = df_class_3.sample(class_1,replace=True)\n",
    "df_class_4_under = df_class_4.sample(class_1,replace=True)\n",
    "df_class_5_under = df_class_5.sample(class_1,replace=True)\n",
    "df_class_6_under = df_class_6.sample(class_1,replace=True)\n",
    "df_class_7_under = df_class_7.sample(class_1,replace=True)\n",
    "df_class_8_under = df_class_8.sample(class_1,replace=True)\n",
    "df_class_9_under = df_class_9.sample(class_1,replace=True)\n",
    "df_class_10_under = df_class_10.sample(class_1,replace=True)\n",
    "df_class_11_under = df_class_11.sample(class_1,replace=True)\n",
    "df_class_12_under = df_class_12.sample(class_1,replace=True)\n",
    "df_class_13_under = df_class_13.sample(class_1,replace=True)\n",
    "df_class_14_under = df_class_14.sample(class_1,replace=True)\n",
    "df_class_15_under = df_class_15.sample(class_1,replace=True)\n",
    "df = pd.concat([df_class_1,df_class_2_under,df_class_3_under,df_class_4_under,df_class_5_under,df_class_6_under,df_class_7_under,df_class_8_under,df_class_9_under,df_class_10_under,df_class_11_under,df_class_12_under,df_class_13_under,df_class_14_under, df_class_15_under], axis=0)"
   ]
  },
  {
   "cell_type": "markdown",
   "execution_count": null,
   "metadata": {
    "papermill": {
     "duration": 0.00816,
     "end_time": "2020-08-11T18:10:42.904216",
     "exception": false,
     "start_time": "2020-08-11T18:10:42.896056",
     "status": "completed"
    },
    "tags": []
   },
   "source": [
    "## Balanced Data"
   ]
  },
  {
   "cell_type": "code",
   "execution_count": 8,
   "metadata": {
    "execution": {
     "iopub.execute_input": "2020-08-11T18:10:43.704922Z",
     "iopub.status.busy": "2020-08-11T18:10:43.366970Z",
     "iopub.status.idle": "2020-08-11T18:10:43.713872Z",
     "shell.execute_reply": "2020-08-11T18:10:43.714373Z"
    },
    "papermill": {
     "duration": 0.802141,
     "end_time": "2020-08-11T18:10:43.714539",
     "exception": false,
     "start_time": "2020-08-11T18:10:42.912398",
     "status": "completed"
    },
    "tags": []
   },
   "outputs": [
    {
     "data": {
      "text/plain": [
       "Computers     253840\n",
       "Reference     253840\n",
       "Recreation    253840\n",
       "Adult         253840\n",
       "Shopping      253840\n",
       "Sports        253840\n",
       "Science       253840\n",
       "Home          253840\n",
       "Health        253840\n",
       "Arts          253840\n",
       "Society       253840\n",
       "Business      253840\n",
       "Kids          253840\n",
       "Games         253840\n",
       "News          253840\n",
       "Name: Category, dtype: int64"
      ]
     },
     "execution_count": 8,
     "metadata": {},
     "output_type": "execute_result"
    }
   ],
   "source": [
    "df.Category.value_counts()"
   ]
  },
  {
   "cell_type": "code",
   "execution_count": 9,
   "metadata": {
    "execution": {
     "iopub.execute_input": "2020-08-11T18:10:43.736222Z",
     "iopub.status.busy": "2020-08-11T18:10:43.735621Z",
     "iopub.status.idle": "2020-08-11T18:10:43.741458Z",
     "shell.execute_reply": "2020-08-11T18:10:43.741921Z"
    },
    "papermill": {
     "duration": 0.018908,
     "end_time": "2020-08-11T18:10:43.742044",
     "exception": false,
     "start_time": "2020-08-11T18:10:43.723136",
     "status": "completed"
    },
    "tags": []
   },
   "outputs": [
    {
     "data": {
      "text/plain": [
       "(3807600, 2)"
      ]
     },
     "execution_count": 9,
     "metadata": {},
     "output_type": "execute_result"
    }
   ],
   "source": [
    "df.shape"
   ]
  },
  {
   "cell_type": "markdown",
   "execution_count": null,
   "metadata": {
    "papermill": {
     "duration": 0.008233,
     "end_time": "2020-08-11T18:10:43.758768",
     "exception": false,
     "start_time": "2020-08-11T18:10:43.750535",
     "status": "completed"
    },
    "tags": []
   },
   "source": [
    "## Balanced Data Visualization"
   ]
  },
  {
   "cell_type": "code",
   "execution_count": 10,
   "metadata": {
    "_uuid": "c31e3eabc59e1219c623e4b89df87d066ddd3082",
    "execution": {
     "iopub.execute_input": "2020-08-11T18:10:44.567841Z",
     "iopub.status.busy": "2020-08-11T18:10:44.566770Z",
     "iopub.status.idle": "2020-08-11T18:10:44.805493Z",
     "shell.execute_reply": "2020-08-11T18:10:44.804951Z"
    },
    "id": "aHxqyiLYw-6N",
    "outputId": "486c134c-0335-4746-f1fb-9cf1f2a7c873",
    "papermill": {
     "duration": 1.038041,
     "end_time": "2020-08-11T18:10:44.805615",
     "exception": false,
     "start_time": "2020-08-11T18:10:43.767574",
     "status": "completed"
    },
    "tags": []
   },
   "outputs": [
    {
     "data": {
      "text/plain": [
       "Text(0, 0.5, 'Total Number Of Individual Category')"
      ]
     },
     "execution_count": 10,
     "metadata": {},
     "output_type": "execute_result"
    },
    {
     "data": {
      "image/png": "[encoded data removed]",
      "text/plain": [
       "<Figure size 864x360 with 1 Axes>"
      ]
     },
     "metadata": {
      "needs_background": "light"
     },
     "output_type": "display_data"
    }
   ],
   "source": [
    "df.Category.value_counts().plot(figsize=(12,5),kind='bar',color='green');\n",
    "plt.xlabel('Category')\n",
    "plt.ylabel('Total Number Of Individual Category')"
   ]
  },
  {
   "cell_type": "markdown",
   "execution_count": null,
   "metadata": {
    "papermill": {
     "duration": 0.008886,
     "end_time": "2020-08-11T18:10:44.824669",
     "exception": false,
     "start_time": "2020-08-11T18:10:44.815783",
     "status": "completed"
    },
    "tags": []
   },
   "source": [
    "## Train Test Dataset"
   ]
  },
  {
   "cell_type": "code",
   "execution_count": 11,
   "metadata": {
    "execution": {
     "iopub.execute_input": "2020-08-11T18:10:44.849114Z",
     "iopub.status.busy": "2020-08-11T18:10:44.848013Z",
     "iopub.status.idle": "2020-08-11T18:10:46.031564Z",
     "shell.execute_reply": "2020-08-11T18:10:46.032174Z"
    },
    "papermill": {
     "duration": 1.198513,
     "end_time": "2020-08-11T18:10:46.032336",
     "exception": false,
     "start_time": "2020-08-11T18:10:44.833823",
     "status": "completed"
    },
    "tags": []
   },
   "outputs": [],
   "source": [
    "X_train, X_test, y_train, y_test = train_test_split(df['URL'], df['Category'],test_size=0.05, random_state = 42)"
   ]
  },
  {
   "cell_type": "code",
   "execution_count": 12,
   "metadata": {
    "execution": {
     "iopub.execute_input": "2020-08-11T18:10:46.075240Z",
     "iopub.status.busy": "2020-08-11T18:10:46.074567Z",
     "iopub.status.idle": "2020-08-11T18:10:46.078016Z",
     "shell.execute_reply": "2020-08-11T18:10:46.078553Z"
    },
    "papermill": {
     "duration": 0.024928,
     "end_time": "2020-08-11T18:10:46.078687",
     "exception": false,
     "start_time": "2020-08-11T18:10:46.053759",
     "status": "completed"
    },
    "tags": []
   },
   "outputs": [
    {
     "data": {
      "text/plain": [
       "(190380,)"
      ]
     },
     "execution_count": 12,
     "metadata": {},
     "output_type": "execute_result"
    }
   ],
   "source": [
    "X_test.shape"
   ]
  },
  {
   "cell_type": "markdown",
   "execution_count": null,
   "metadata": {
    "papermill": {
     "duration": 0.015338,
     "end_time": "2020-08-11T18:10:46.107643",
     "exception": false,
     "start_time": "2020-08-11T18:10:46.092305",
     "status": "completed"
    },
    "tags": []
   },
   "source": [
    "## Feature Engineering and Classifier"
   ]
  },
  {
   "cell_type": "code",
   "execution_count": 13,
   "metadata": {
    "_uuid": "2126dbf54940e001cecc61849b06deebc30f47a8",
    "execution": {
     "iopub.execute_input": "2020-08-11T18:10:46.154052Z",
     "iopub.status.busy": "2020-08-11T18:10:46.153130Z",
     "iopub.status.idle": "2020-08-11T18:12:11.110391Z",
     "shell.execute_reply": "2020-08-11T18:12:11.109728Z"
    },
    "papermill": {
     "duration": 84.984636,
     "end_time": "2020-08-11T18:12:11.110585",
     "exception": false,
     "start_time": "2020-08-11T18:10:46.125949",
     "status": "completed"
    },
    "tags": []
   },
   "outputs": [],
   "source": [
    "from sklearn.pipeline import Pipeline\n",
    "text_clf = Pipeline([('vect', CountVectorizer()), ('tfidf', TfidfTransformer()), ('clf', MultinomialNB())])\n",
    "text_clf = text_clf.fit(X_train, y_train)"
   ]
  },
  {
   "cell_type": "markdown",
   "execution_count": null,
   "metadata": {
    "papermill": {
     "duration": 0.009394,
     "end_time": "2020-08-11T18:12:11.130465",
     "exception": false,
     "start_time": "2020-08-11T18:12:11.121071",
     "status": "completed"
    },
    "tags": []
   },
   "source": [
    "## Hyperparameters Tuning"
   ]
  },
  {
   "cell_type": "code",
   "execution_count": 14,
   "metadata": {
    "_uuid": "892681d5eb3d8f45379fd80046676aeac800c7bf",
    "execution": {
     "iopub.execute_input": "2020-08-11T18:12:11.157761Z",
     "iopub.status.busy": "2020-08-11T18:12:11.156257Z",
     "iopub.status.idle": "2020-08-11T19:01:45.584288Z",
     "shell.execute_reply": "2020-08-11T19:01:45.583616Z"
    },
    "papermill": {
     "duration": 2974.444787,
     "end_time": "2020-08-11T19:01:45.584475",
     "exception": false,
     "start_time": "2020-08-11T18:12:11.139688",
     "status": "completed"
    },
    "tags": []
   },
   "outputs": [],
   "source": [
    "from sklearn.model_selection import RandomizedSearchCV\n",
    "n_iter_search = 5\n",
    "parameters = {'vect__ngram_range': [(1, 1), (1, 2)], 'tfidf__use_idf': (True, False), 'clf__alpha': (1e-2, 1e-3)}\n",
    "gs_clf = RandomizedSearchCV(text_clf, parameters, n_iter = n_iter_search)\n",
    "gs_clf = gs_clf.fit(X_train, y_train)"
   ]
  },
  {
   "cell_type": "markdown",
   "execution_count": null,
   "metadata": {
    "papermill": {
     "duration": 0.009619,
     "end_time": "2020-08-11T19:01:45.604790",
     "exception": false,
     "start_time": "2020-08-11T19:01:45.595171",
     "status": "completed"
    },
    "tags": []
   },
   "source": [
    "## Prediction and Test Result"
   ]
  },
  {
   "cell_type": "code",
   "execution_count": 15,
   "metadata": {
    "_uuid": "74268f8496fd1658a7e781249d9d579aaca5de15",
    "execution": {
     "iopub.execute_input": "2020-08-11T19:01:45.662638Z",
     "iopub.status.busy": "2020-08-11T19:01:45.647140Z",
     "iopub.status.idle": "2020-08-11T19:01:51.961515Z",
     "shell.execute_reply": "2020-08-11T19:01:51.960912Z"
    },
    "id": "vbjsB3V5xpRM",
    "outputId": "ce34c4c1-e695-4602-d84c-f9f9b5bbdad5",
    "papermill": {
     "duration": 6.347277,
     "end_time": "2020-08-11T19:01:51.961659",
     "exception": false,
     "start_time": "2020-08-11T19:01:45.614382",
     "status": "completed"
    },
    "tags": []
   },
   "outputs": [
    {
     "data": {
      "text/plain": [
       "(0.8954963106272266, 0.8840476940855132, 0.8808813153794258, None)"
      ]
     },
     "execution_count": 15,
     "metadata": {},
     "output_type": "execute_result"
    }
   ],
   "source": [
    "from sklearn.metrics import precision_recall_fscore_support\n",
    "from sklearn.metrics import confusion_matrix\n",
    "#grid_mean_scores = [result.mean_validation_score for result in gs_clf.grid_scores_]\n",
    "#print(grid_mean_scores)\n",
    "y_pred=gs_clf.predict(X_test)\n",
    "precision_recall_fscore_support(y_test, y_pred, average='weighted')"
   ]
  },
  {
   "cell_type": "code",
   "execution_count": 16,
   "metadata": {
    "_uuid": "52610d1bc080a3c7e63a0583a96735d881f91098",
    "execution": {
     "iopub.execute_input": "2020-08-11T19:01:52.000136Z",
     "iopub.status.busy": "2020-08-11T19:01:51.995050Z",
     "iopub.status.idle": "2020-08-11T19:02:03.899671Z",
     "shell.execute_reply": "2020-08-11T19:02:03.900508Z"
    },
    "papermill": {
     "duration": 11.928506,
     "end_time": "2020-08-11T19:02:03.900785",
     "exception": false,
     "start_time": "2020-08-11T19:01:51.972279",
     "status": "completed"
    },
    "tags": []
   },
   "outputs": [
    {
     "name": "stdout",
     "output_type": "stream",
     "text": [
      "              precision    recall  f1-score   support\n",
      "\n",
      "       Adult       0.96      1.00      0.98     12441\n",
      "        Arts       0.90      0.49      0.63     12810\n",
      "    Business       0.95      0.67      0.78     12742\n",
      "   Computers       0.92      0.91      0.91     12783\n",
      "       Games       0.87      0.96      0.91     12783\n",
      "      Health       0.97      0.97      0.97     12777\n",
      "        Home       0.96      0.99      0.98     12695\n",
      "        Kids       0.88      0.85      0.87     12737\n",
      "        News       0.96      0.99      0.97     12775\n",
      "  Recreation       0.84      0.91      0.87     12606\n",
      "   Reference       0.89      0.94      0.91     12700\n",
      "     Science       0.92      0.91      0.91     12607\n",
      "    Shopping       0.62      0.97      0.75     12662\n",
      "     Society       0.88      0.78      0.83     12613\n",
      "      Sports       0.91      0.94      0.93     12649\n",
      "\n",
      "    accuracy                           0.88    190380\n",
      "   macro avg       0.90      0.88      0.88    190380\n",
      "weighted avg       0.90      0.88      0.88    190380\n",
      "\n"
     ]
    }
   ],
   "source": [
    "y_pred=gs_clf.predict(X_test)\n",
    "from sklearn.metrics import classification_report\n",
    "print(classification_report(y_test, y_pred))"
   ]
  },
  {
   "cell_type": "code",
   "execution_count": 17,
   "metadata": {
    "_uuid": "5551dbc81f7008881f0bd1fcfadac8885da6c02e",
    "execution": {
     "iopub.execute_input": "2020-08-11T19:02:04.151957Z",
     "iopub.status.busy": "2020-08-11T19:02:04.142744Z",
     "iopub.status.idle": "2020-08-11T19:02:11.295323Z",
     "shell.execute_reply": "2020-08-11T19:02:11.296131Z"
    },
    "papermill": {
     "duration": 7.382647,
     "end_time": "2020-08-11T19:02:11.296345",
     "exception": false,
     "start_time": "2020-08-11T19:02:03.913698",
     "status": "completed"
    },
    "tags": []
   },
   "outputs": [
    {
     "name": "stdout",
     "output_type": "stream",
     "text": [
      "              precision    recall  f1-score   support\n",
      "\n",
      "       Adult     0.9617    0.9979    0.9794     12441\n",
      "        Arts     0.9027    0.4859    0.6318     12810\n",
      "    Business     0.9461    0.6686    0.7835     12742\n",
      "   Computers     0.9232    0.9053    0.9142     12783\n",
      "       Games     0.8736    0.9573    0.9135     12783\n",
      "      Health     0.9650    0.9746    0.9698     12777\n",
      "        Home     0.9642    0.9919    0.9779     12695\n",
      "        Kids     0.8787    0.8522    0.8653     12737\n",
      "        News     0.9560    0.9941    0.9747     12775\n",
      "  Recreation     0.8434    0.9064    0.8738     12606\n",
      "   Reference     0.8947    0.9354    0.9146     12700\n",
      "     Science     0.9170    0.9058    0.9114     12607\n",
      "    Shopping     0.6180    0.9691    0.7547     12662\n",
      "     Society     0.8751    0.7821    0.8260     12613\n",
      "      Sports     0.9121    0.9389    0.9253     12649\n",
      "\n",
      "    accuracy                         0.8840    190380\n",
      "   macro avg     0.8954    0.8844    0.8811    190380\n",
      "weighted avg     0.8955    0.8840    0.8809    190380\n",
      "\n"
     ]
    }
   ],
   "source": [
    "print(classification_report(y_test, y_pred, digits=4))"
   ]
  },
  {
   "cell_type": "markdown",
   "execution_count": null,
   "metadata": {
    "papermill": {
     "duration": 0.010109,
     "end_time": "2020-08-11T19:02:11.318390",
     "exception": false,
     "start_time": "2020-08-11T19:02:11.308281",
     "status": "completed"
    },
    "tags": []
   },
   "source": [
    "## Confusion Matrix"
   ]
  },
  {
   "cell_type": "code",
   "execution_count": 18,
   "metadata": {
    "_uuid": "27739db4d09a08caf347fee24e1674bf54cc4951",
    "execution": {
     "iopub.execute_input": "2020-08-11T19:02:11.350511Z",
     "iopub.status.busy": "2020-08-11T19:02:11.349903Z",
     "iopub.status.idle": "2020-08-11T19:02:13.555764Z",
     "shell.execute_reply": "2020-08-11T19:02:13.555056Z"
    },
    "papermill": {
     "duration": 2.227657,
     "end_time": "2020-08-11T19:02:13.555888",
     "exception": false,
     "start_time": "2020-08-11T19:02:11.328231",
     "status": "completed"
    },
    "tags": []
   },
   "outputs": [
    {
     "data": {
      "text/plain": [
       "<matplotlib.axes._subplots.AxesSubplot at 0x7f817a7df910>"
      ]
     },
     "execution_count": 18,
     "metadata": {},
     "output_type": "execute_result"
    },
    {
     "data": {
      "image/png": "[encoded data removed]",
      "text/plain": [
       "<Figure size 1440x1080 with 2 Axes>"
      ]
     },
     "metadata": {
      "needs_background": "light"
     },
     "output_type": "display_data"
    }
   ],
   "source": [
    "import seaborn as sn\n",
    "import pandas as pd\n",
    "import matplotlib.pyplot as plt\n",
    "import numpy as np\n",
    "%matplotlib inline\n",
    "array = confusion_matrix(y_test, y_pred)\n",
    "cm=np.array(array)\n",
    "cm = cm.astype('float') / cm.sum(axis=1)[:, np.newaxis]\n",
    "df_cm = pd.DataFrame(cm, index = [i for i in \"0123456789ABCDE\"],\n",
    "                  columns = [i for i in \"0123456789ABCDE\"])\n",
    "plt.figure(figsize = (20,15))\n",
    "sn.heatmap(df_cm, annot=True)"
   ]
  },
  {
   "cell_type": "markdown",
   "execution_count": null,
   "metadata": {
    "papermill": {
     "duration": 0.010638,
     "end_time": "2020-08-11T19:02:13.578507",
     "exception": false,
     "start_time": "2020-08-11T19:02:13.567869",
     "status": "completed"
    },
    "tags": []
   },
   "source": [
    "## Accuracy "
   ]
  },
  {
   "cell_type": "code",
   "execution_count": 19,
   "metadata": {
    "_uuid": "9062c8082990e92166fbbec3bf9499ed3374fbf1",
    "execution": {
     "iopub.execute_input": "2020-08-11T19:02:13.654563Z",
     "iopub.status.busy": "2020-08-11T19:02:13.628655Z",
     "iopub.status.idle": "2020-08-11T19:03:55.092962Z",
     "shell.execute_reply": "2020-08-11T19:03:55.093824Z"
    },
    "id": "lMdZWt5ws62k",
    "outputId": "4b0df536-6eb4-4455-d7a6-64a23d3c9cba",
    "papermill": {
     "duration": 101.504491,
     "end_time": "2020-08-11T19:03:55.094017",
     "exception": false,
     "start_time": "2020-08-11T19:02:13.589526",
     "status": "completed"
    },
    "tags": []
   },
   "outputs": [
    {
     "name": "stdout",
     "output_type": "stream",
     "text": [
      "Naive Bayes Train Accuracy =  0.9730190588352381\n",
      "Naive Bayes Test Accuracy =  0.8840476940855132\n"
     ]
    }
   ],
   "source": [
    "print('Naive Bayes Train Accuracy = ',metrics.accuracy_score(y_train,gs_clf.predict(X_train)))\n",
    "print('Naive Bayes Test Accuracy = ',metrics.accuracy_score(y_test,gs_clf.predict(X_test)))"
   ]
  },
  {
   "cell_type": "markdown",
   "execution_count": null,
   "metadata": {
    "papermill": {
     "duration": 0.011051,
     "end_time": "2020-08-11T19:03:55.116892",
     "exception": false,
     "start_time": "2020-08-11T19:03:55.105841",
     "status": "completed"
    },
    "tags": []
   },
   "source": [
    "## Real Time Test"
   ]
  },
  {
   "cell_type": "code",
   "execution_count": 20,
   "metadata": {
    "_uuid": "44e5c0df369430df0006e9f04774db39bcb13d99",
    "execution": {
     "iopub.execute_input": "2020-08-11T19:03:55.145694Z",
     "iopub.status.busy": "2020-08-11T19:03:55.144420Z",
     "iopub.status.idle": "2020-08-11T19:03:55.504054Z",
     "shell.execute_reply": "2020-08-11T19:03:55.504931Z"
    },
    "id": "EKqEmU-4xZVF",
    "outputId": "f55cd0bd-8381-4dd2-f7a2-a84fcf8ace2f",
    "papermill": {
     "duration": 0.377292,
     "end_time": "2020-08-11T19:03:55.505134",
     "exception": false,
     "start_time": "2020-08-11T19:03:55.127842",
     "status": "completed"
    },
    "tags": []
   },
   "outputs": [
    {
     "name": "stdout",
     "output_type": "stream",
     "text": [
      "['Adult']\n",
      "['Games']\n"
     ]
    }
   ],
   "source": [
    "print(gs_clf.predict(['http://www.business.net/']))\n",
    "print(gs_clf.predict(['http://www.gamespot.net/']))"
   ]
  },
  {
   "cell_type": "code",
   "execution_count": null,
   "metadata": {
    "_uuid": "3bd7f52b1042be2ae0bc25fa3033cbaf79cf7e0f",
    "collapsed": true,
    "papermill": {
     "duration": 0.01198,
     "end_time": "2020-08-11T19:03:55.529723",
     "exception": false,
     "start_time": "2020-08-11T19:03:55.517743",
     "status": "completed"
    },
    "tags": []
   },
   "outputs": [],
   "source": []
  }
 ],
 "metadata": {
  "kernelspec": {
   "display_name": "Python 3",
   "language": "python",
   "name": "python3"
  },
  "language_info": {
   "codemirror_mode": {
    "name": "ipython",
    "version": 3
   },
   "file_extension": ".py",
   "mimetype": "text/x-python",
   "name": "python",
   "nbconvert_exporter": "python",
   "pygments_lexer": "ipython3",
   "version": "3.7.6"
  },
  "papermill": {
   "duration": 3209.996849,
   "end_time": "2020-08-11T19:03:55.748530",
   "environment_variables": {},
   "exception": null,
   "input_path": "__notebook__.ipynb",
   "output_path": "__notebook__.ipynb",
   "parameters": {},
   "start_time": "2020-08-11T18:10:25.751681",
   "version": "2.1.0"
  }
 },
 "nbformat": 4,
 "nbformat_minor": 4
}
